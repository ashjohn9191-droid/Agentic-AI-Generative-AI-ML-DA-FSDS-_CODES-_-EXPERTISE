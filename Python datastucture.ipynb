{
 "cells": [
  {
   "cell_type": "markdown",
   "id": "a8aaad1b-25e0-43b3-8216-44bade41d882",
   "metadata": {},
   "source": [
    "# Inbuild ds(primitive)  \n",
    "# .LIST\n",
    "# .TUPLE\n",
    "# .SET\n",
    "# .DICT\n",
    "# .RANGE"
   ]
  },
  {
   "cell_type": "markdown",
   "id": "d8b5878f-4c31-4b97-a5ef-19e9c8f316c7",
   "metadata": {},
   "source": []
  },
  {
   "cell_type": "markdown",
   "id": "072dca72-6be9-4e95-8a50-39ecff4d9f2c",
   "metadata": {},
   "source": [
    "** List** #Mutable"
   ]
  },
  {
   "cell_type": "code",
   "execution_count": 13,
   "id": "3ba33a34-87cc-4643-858b-580c7453c9df",
   "metadata": {},
   "outputs": [
    {
     "data": {
      "text/plain": [
       "[]"
      ]
     },
     "execution_count": 13,
     "metadata": {},
     "output_type": "execute_result"
    }
   ],
   "source": [
    "l=[]# empty list\n",
    "l"
   ]
  },
  {
   "cell_type": "code",
   "execution_count": 37,
   "id": "ae395e6c-5fe8-46bd-8a7f-627b0858ebe5",
   "metadata": {},
   "outputs": [
    {
     "data": {
      "text/plain": [
       "list"
      ]
     },
     "execution_count": 37,
     "metadata": {},
     "output_type": "execute_result"
    }
   ],
   "source": [
    "type(l)"
   ]
  },
  {
   "cell_type": "code",
   "execution_count": 44,
   "id": "b5754bde-00f1-4dbe-8c47-3b142db50d51",
   "metadata": {},
   "outputs": [
    {
     "ename": "TypeError",
     "evalue": "list.append() takes exactly one argument (0 given)",
     "output_type": "error",
     "traceback": [
      "\u001b[1;31m---------------------------------------------------------------------------\u001b[0m",
      "\u001b[1;31mTypeError\u001b[0m                                 Traceback (most recent call last)",
      "Cell \u001b[1;32mIn[44], line 1\u001b[0m\n\u001b[1;32m----> 1\u001b[0m l\u001b[38;5;241m.\u001b[39mappend()\n",
      "\u001b[1;31mTypeError\u001b[0m: list.append() takes exactly one argument (0 given)"
     ]
    }
   ],
   "source": [
    "l.append()"
   ]
  },
  {
   "cell_type": "code",
   "execution_count": 50,
   "id": "6433450c-7a40-470f-bc5b-3cd57b37e80f",
   "metadata": {},
   "outputs": [
    {
     "data": {
      "text/plain": [
       "[20, 20, 10, 10]"
      ]
     },
     "execution_count": 50,
     "metadata": {},
     "output_type": "execute_result"
    }
   ],
   "source": [
    "l.append(10)#add the element at last\n",
    "l"
   ]
  },
  {
   "cell_type": "code",
   "execution_count": 52,
   "id": "f47e82c3-73e0-435f-93f3-377c3b77b9df",
   "metadata": {},
   "outputs": [
    {
     "data": {
      "text/plain": [
       "[20, 20, 10, 10, 10, 20, 30]"
      ]
     },
     "execution_count": 52,
     "metadata": {},
     "output_type": "execute_result"
    }
   ],
   "source": [
    "l.append(10)\n",
    "l.append(20)\n",
    "l.append(30)\n",
    "l"
   ]
  },
  {
   "cell_type": "code",
   "execution_count": 58,
   "id": "a8b0a308-c499-44ad-833f-7b3b4b738076",
   "metadata": {},
   "outputs": [
    {
     "data": {
      "text/plain": [
       "[10, 5.4, 'ten', True, (2+3j)]"
      ]
     },
     "execution_count": 58,
     "metadata": {},
     "output_type": "execute_result"
    }
   ],
   "source": [
    "l1=[10, 5.4,'ten',True,(2+3j)]\n",
    "l1"
   ]
  },
  {
   "cell_type": "code",
   "execution_count": 62,
   "id": "7e943e49-cf9a-4288-82fe-bdebe77435fd",
   "metadata": {},
   "outputs": [
    {
     "name": "stdout",
     "output_type": "stream",
     "text": [
      "[20, 20, 10, 10, 10, 20, 30]\n",
      "[10, 5.4, 'ten', True, (2+3j)]\n"
     ]
    }
   ],
   "source": [
    "print(l)\n",
    "print(l1)"
   ]
  },
  {
   "cell_type": "code",
   "execution_count": 66,
   "id": "b91f0c12-9003-40b5-9d02-430d96c7e86c",
   "metadata": {},
   "outputs": [
    {
     "name": "stdout",
     "output_type": "stream",
     "text": [
      "2215984278976\n",
      "2216003008000\n"
     ]
    }
   ],
   "source": [
    "print(id(l))\n",
    "print(id(l1))"
   ]
  },
  {
   "cell_type": "code",
   "execution_count": 69,
   "id": "1a410ffb-3b90-4e03-b0ba-e6a7595c1c8e",
   "metadata": {},
   "outputs": [
    {
     "ename": "NameError",
     "evalue": "name 'l2' is not defined",
     "output_type": "error",
     "traceback": [
      "\u001b[1;31m---------------------------------------------------------------------------\u001b[0m",
      "\u001b[1;31mNameError\u001b[0m                                 Traceback (most recent call last)",
      "Cell \u001b[1;32mIn[69], line 1\u001b[0m\n\u001b[1;32m----> 1\u001b[0m l2\n",
      "\u001b[1;31mNameError\u001b[0m: name 'l2' is not defined"
     ]
    }
   ],
   "source": [
    "l2"
   ]
  },
  {
   "cell_type": "code",
   "execution_count": 71,
   "id": "af721678-4084-4762-b410-34499b8fc402",
   "metadata": {},
   "outputs": [
    {
     "data": {
      "text/plain": [
       "[10, 5.4, 'ten', True, (2+3j)]"
      ]
     },
     "execution_count": 71,
     "metadata": {},
     "output_type": "execute_result"
    }
   ],
   "source": [
    "l2=l1.copy()# copy the element from another cell\n",
    "l2"
   ]
  },
  {
   "cell_type": "code",
   "execution_count": 73,
   "id": "f4ba28fd-7e3c-43d3-b846-bdf1b89f7858",
   "metadata": {},
   "outputs": [
    {
     "data": {
      "text/plain": [
       "True"
      ]
     },
     "execution_count": 73,
     "metadata": {},
     "output_type": "execute_result"
    }
   ],
   "source": [
    "l1==l2"
   ]
  },
  {
   "cell_type": "code",
   "execution_count": 75,
   "id": "5f20a6e5-82fc-46b1-b6ed-592df7b548be",
   "metadata": {},
   "outputs": [
    {
     "data": {
      "text/plain": [
       "False"
      ]
     },
     "execution_count": 75,
     "metadata": {},
     "output_type": "execute_result"
    }
   ],
   "source": [
    "l==l2"
   ]
  },
  {
   "cell_type": "code",
   "execution_count": 77,
   "id": "1f4f57c3-ce5f-40d2-954d-d7195521cf7d",
   "metadata": {},
   "outputs": [
    {
     "data": {
      "text/plain": [
       "False"
      ]
     },
     "execution_count": 77,
     "metadata": {},
     "output_type": "execute_result"
    }
   ],
   "source": [
    "l1!=l2"
   ]
  },
  {
   "cell_type": "code",
   "execution_count": 79,
   "id": "57d151ce-bf07-4152-ba95-2f8dc2996f2b",
   "metadata": {},
   "outputs": [
    {
     "name": "stdout",
     "output_type": "stream",
     "text": [
      "[20, 20, 10, 10, 10, 20, 30]\n",
      "[10, 5.4, 'ten', True, (2+3j)]\n",
      "[10, 5.4, 'ten', True, (2+3j)]\n"
     ]
    }
   ],
   "source": [
    "print(l)\n",
    "print(l1)\n",
    "print(l2)"
   ]
  },
  {
   "cell_type": "code",
   "execution_count": 81,
   "id": "2ef25939-433f-4ed5-a1a2-fe9be3450f3b",
   "metadata": {},
   "outputs": [
    {
     "data": {
      "text/plain": [
       "[20, 20, 10, 10, 10, 20, 30]"
      ]
     },
     "execution_count": 81,
     "metadata": {},
     "output_type": "execute_result"
    }
   ],
   "source": [
    "l"
   ]
  },
  {
   "cell_type": "code",
   "execution_count": 83,
   "id": "357687c4-7b11-4a3e-8aab-812f5596e95e",
   "metadata": {},
   "outputs": [
    {
     "data": {
      "text/plain": [
       "[20, 20, 10, 10, 10, 20, 30]"
      ]
     },
     "execution_count": 83,
     "metadata": {},
     "output_type": "execute_result"
    }
   ],
   "source": [
    "l[:]"
   ]
  },
  {
   "cell_type": "code",
   "execution_count": 85,
   "id": "d3434816-e867-43f1-99ab-8d257f639bd4",
   "metadata": {},
   "outputs": [
    {
     "data": {
      "text/plain": [
       "20"
      ]
     },
     "execution_count": 85,
     "metadata": {},
     "output_type": "execute_result"
    }
   ],
   "source": [
    "l[0]"
   ]
  },
  {
   "cell_type": "code",
   "execution_count": 87,
   "id": "ea8a0410-9151-42f1-bd0e-5c665f095133",
   "metadata": {},
   "outputs": [
    {
     "data": {
      "text/plain": [
       "20"
      ]
     },
     "execution_count": 87,
     "metadata": {},
     "output_type": "execute_result"
    }
   ],
   "source": [
    "l[-2]"
   ]
  },
  {
   "cell_type": "code",
   "execution_count": 89,
   "id": "e85228f0-699d-4af5-b45f-361fb84f6c12",
   "metadata": {},
   "outputs": [
    {
     "data": {
      "text/plain": [
       "[20, 20, 10]"
      ]
     },
     "execution_count": 89,
     "metadata": {},
     "output_type": "execute_result"
    }
   ],
   "source": [
    "l[:-4]"
   ]
  },
  {
   "cell_type": "code",
   "execution_count": 93,
   "id": "55603ff0-e00b-4189-bd6b-3d3d32540a11",
   "metadata": {},
   "outputs": [
    {
     "data": {
      "text/plain": [
       "[20, 20, 10, 10, 10, 20, 30]"
      ]
     },
     "execution_count": 93,
     "metadata": {},
     "output_type": "execute_result"
    }
   ],
   "source": [
    "l"
   ]
  },
  {
   "cell_type": "code",
   "execution_count": 99,
   "id": "81f35f7d-0fd5-4d79-b83b-740e7762fb6f",
   "metadata": {},
   "outputs": [
    {
     "data": {
      "text/plain": [
       "[10, 5.4, 'ten', True, (2+3j)]"
      ]
     },
     "execution_count": 99,
     "metadata": {},
     "output_type": "execute_result"
    }
   ],
   "source": [
    "l1"
   ]
  },
  {
   "cell_type": "code",
   "execution_count": 101,
   "id": "db156b01-5791-4f4e-aad5-b8059f5fe7d8",
   "metadata": {},
   "outputs": [
    {
     "data": {
      "text/plain": [
       "[10, (2+3j)]"
      ]
     },
     "execution_count": 101,
     "metadata": {},
     "output_type": "execute_result"
    }
   ],
   "source": [
    "l1[::4]"
   ]
  },
  {
   "cell_type": "code",
   "execution_count": 103,
   "id": "bb5212f7-01ee-4624-9448-5569cc15a0aa",
   "metadata": {},
   "outputs": [
    {
     "data": {
      "text/plain": [
       "10"
      ]
     },
     "execution_count": 103,
     "metadata": {},
     "output_type": "execute_result"
    }
   ],
   "source": [
    "l1[-5]"
   ]
  },
  {
   "cell_type": "code",
   "execution_count": 105,
   "id": "a33f8558-f84f-4a0b-a3c6-a73b9842c12d",
   "metadata": {},
   "outputs": [
    {
     "data": {
      "text/plain": [
       "[10, 5.4, 'ten', True, (2+3j)]"
      ]
     },
     "execution_count": 105,
     "metadata": {},
     "output_type": "execute_result"
    }
   ],
   "source": [
    "l1[:50]"
   ]
  },
  {
   "cell_type": "code",
   "execution_count": 107,
   "id": "1f7fdb79-13d4-43f5-b175-00b4dec10785",
   "metadata": {},
   "outputs": [
    {
     "data": {
      "text/plain": [
       "[10]"
      ]
     },
     "execution_count": 107,
     "metadata": {},
     "output_type": "execute_result"
    }
   ],
   "source": [
    "l2[::40]"
   ]
  },
  {
   "cell_type": "code",
   "execution_count": 109,
   "id": "1ec380f7-2afc-47bc-9184-f824cded29a5",
   "metadata": {},
   "outputs": [
    {
     "data": {
      "text/plain": [
       "[10, 5.4, 'ten', True, (2+3j)]"
      ]
     },
     "execution_count": 109,
     "metadata": {},
     "output_type": "execute_result"
    }
   ],
   "source": [
    "l2"
   ]
  },
  {
   "cell_type": "code",
   "execution_count": 111,
   "id": "097c4769-3d5a-4ab1-bba0-369e48ff8ad0",
   "metadata": {},
   "outputs": [
    {
     "ename": "SyntaxError",
     "evalue": "invalid syntax (3919970447.py, line 1)",
     "output_type": "error",
     "traceback": [
      "\u001b[1;36m  Cell \u001b[1;32mIn[111], line 1\u001b[1;36m\u001b[0m\n\u001b[1;33m    l2[-::40]\u001b[0m\n\u001b[1;37m        ^\u001b[0m\n\u001b[1;31mSyntaxError\u001b[0m\u001b[1;31m:\u001b[0m invalid syntax\n"
     ]
    }
   ],
   "source": [
    "l2[-::40]"
   ]
  },
  {
   "cell_type": "code",
   "execution_count": 115,
   "id": "4b29970f-0515-456e-b37f-3a8034cd2102",
   "metadata": {},
   "outputs": [],
   "source": [
    "l2.clear()\n"
   ]
  },
  {
   "cell_type": "code",
   "execution_count": 117,
   "id": "5c78e2f0-2b2a-406e-8b62-352de9032b26",
   "metadata": {},
   "outputs": [
    {
     "data": {
      "text/plain": [
       "[67]"
      ]
     },
     "execution_count": 117,
     "metadata": {},
     "output_type": "execute_result"
    }
   ],
   "source": [
    "l2.append(67)\n",
    "l2\n"
   ]
  },
  {
   "cell_type": "code",
   "execution_count": 119,
   "id": "581b0105-0761-4727-8192-c84a12ae8c45",
   "metadata": {},
   "outputs": [
    {
     "data": {
      "text/plain": [
       "[10, 5.4, 'ten', True, (2+3j), 40]"
      ]
     },
     "execution_count": 119,
     "metadata": {},
     "output_type": "execute_result"
    }
   ],
   "source": [
    "l1.append(40)\n",
    "l1"
   ]
  },
  {
   "cell_type": "markdown",
   "id": "4b4fbb42-a9d7-4b82-9be7-5a04d3b85624",
   "metadata": {},
   "source": [
    "*** Count ***"
   ]
  },
  {
   "cell_type": "code",
   "execution_count": 121,
   "id": "d1ae4a95-326a-4c63-8417-820744bb1d5a",
   "metadata": {},
   "outputs": [
    {
     "data": {
      "text/plain": [
       "0"
      ]
     },
     "execution_count": 121,
     "metadata": {},
     "output_type": "execute_result"
    }
   ],
   "source": [
    "l.count(40)"
   ]
  },
  {
   "cell_type": "code",
   "execution_count": 123,
   "id": "782232fd-4d9a-4842-a0c7-e4d46c12dd6e",
   "metadata": {},
   "outputs": [
    {
     "data": {
      "text/plain": [
       "1"
      ]
     },
     "execution_count": 123,
     "metadata": {},
     "output_type": "execute_result"
    }
   ],
   "source": [
    "l1.count(40)"
   ]
  },
  {
   "cell_type": "code",
   "execution_count": 127,
   "id": "e19c94fc-209f-427f-9692-d552795c720f",
   "metadata": {},
   "outputs": [
    {
     "data": {
      "text/plain": [
       "0"
      ]
     },
     "execution_count": 127,
     "metadata": {},
     "output_type": "execute_result"
    }
   ],
   "source": [
    "l2.count(10)"
   ]
  },
  {
   "cell_type": "code",
   "execution_count": 129,
   "id": "ec63f538-46ae-4bce-9cc5-0fc246c2c500",
   "metadata": {},
   "outputs": [
    {
     "name": "stdout",
     "output_type": "stream",
     "text": [
      "[20, 20, 10, 10, 10, 20, 30]\n",
      "[10, 5.4, 'ten', True, (2+3j), 40]\n"
     ]
    }
   ],
   "source": [
    "print(l)\n",
    "print(l1)"
   ]
  },
  {
   "cell_type": "markdown",
   "id": "b3dd7fcf-4a8e-4440-9d92-8ab9497ee727",
   "metadata": {},
   "source": [
    "***List Membership***"
   ]
  },
  {
   "cell_type": "code",
   "execution_count": 134,
   "id": "cae2ad35-c37d-4bb9-9d9f-239a414f98c0",
   "metadata": {},
   "outputs": [
    {
     "data": {
      "text/plain": [
       "[20, 20, 10, 10, 10, 20, 30]"
      ]
     },
     "execution_count": 134,
     "metadata": {},
     "output_type": "execute_result"
    }
   ],
   "source": [
    "l"
   ]
  },
  {
   "cell_type": "code",
   "execution_count": 136,
   "id": "9ccde516-5b5c-40eb-9647-e0338f58d37f",
   "metadata": {},
   "outputs": [
    {
     "data": {
      "text/plain": [
       "False"
      ]
     },
     "execution_count": 136,
     "metadata": {},
     "output_type": "execute_result"
    }
   ],
   "source": [
    "100 in l"
   ]
  },
  {
   "cell_type": "code",
   "execution_count": 138,
   "id": "f8a082f5-6997-4658-a965-219a8fb86a5b",
   "metadata": {},
   "outputs": [
    {
     "data": {
      "text/plain": [
       "False"
      ]
     },
     "execution_count": 138,
     "metadata": {},
     "output_type": "execute_result"
    }
   ],
   "source": [
    "40 in l"
   ]
  },
  {
   "cell_type": "code",
   "execution_count": 140,
   "id": "e239b557-6048-4040-958e-02c92a4c7ff4",
   "metadata": {},
   "outputs": [
    {
     "data": {
      "text/plain": [
       "True"
      ]
     },
     "execution_count": 140,
     "metadata": {},
     "output_type": "execute_result"
    }
   ],
   "source": [
    "10 in l"
   ]
  },
  {
   "cell_type": "code",
   "execution_count": 142,
   "id": "6e6d7eeb-33b8-431c-b5f3-d39a2928a6d7",
   "metadata": {},
   "outputs": [
    {
     "data": {
      "text/plain": [
       "True"
      ]
     },
     "execution_count": 142,
     "metadata": {},
     "output_type": "execute_result"
    }
   ],
   "source": [
    "40 in l1"
   ]
  },
  {
   "cell_type": "code",
   "execution_count": 144,
   "id": "3c16febe-7806-46ae-99aa-361d341e4cbd",
   "metadata": {},
   "outputs": [
    {
     "data": {
      "text/plain": [
       "False"
      ]
     },
     "execution_count": 144,
     "metadata": {},
     "output_type": "execute_result"
    }
   ],
   "source": [
    "(2+3j) in l"
   ]
  },
  {
   "cell_type": "code",
   "execution_count": 146,
   "id": "af146f0e-b712-4968-ad73-b36228c319af",
   "metadata": {},
   "outputs": [
    {
     "data": {
      "text/plain": [
       "False"
      ]
     },
     "execution_count": 146,
     "metadata": {},
     "output_type": "execute_result"
    }
   ],
   "source": [
    "True in l"
   ]
  },
  {
   "cell_type": "markdown",
   "id": "8a71d019-5a0d-4dfc-baea-8b63b9e5f1f8",
   "metadata": {},
   "source": [
    "*** extend ***"
   ]
  },
  {
   "cell_type": "code",
   "execution_count": 155,
   "id": "f6589962-ed8f-415a-a645-156848230f39",
   "metadata": {},
   "outputs": [
    {
     "data": {
      "text/plain": [
       "[67, 20, 20, 10, 10, 10, 20, 30]"
      ]
     },
     "execution_count": 155,
     "metadata": {},
     "output_type": "execute_result"
    }
   ],
   "source": [
    "l1.extend(l2)\n",
    "l2"
   ]
  },
  {
   "cell_type": "code",
   "execution_count": 157,
   "id": "5af28183-74df-44ca-8bc8-97e0b919518a",
   "metadata": {},
   "outputs": [
    {
     "data": {
      "text/plain": [
       "[20, 20, 10, 10, 10, 20, 30]"
      ]
     },
     "execution_count": 157,
     "metadata": {},
     "output_type": "execute_result"
    }
   ],
   "source": [
    "l2.extend(l)\n",
    "l"
   ]
  },
  {
   "cell_type": "code",
   "execution_count": 160,
   "id": "e87759c9-33f4-425c-be86-a5e4fc1d72a7",
   "metadata": {},
   "outputs": [
    {
     "data": {
      "text/plain": [
       "[10, 5.4, 'ten', True, (2+3j), 40, 67, 20, 20, 10, 10, 10, 20, 30]"
      ]
     },
     "execution_count": 160,
     "metadata": {},
     "output_type": "execute_result"
    }
   ],
   "source": [
    "l1"
   ]
  },
  {
   "cell_type": "code",
   "execution_count": 162,
   "id": "4a84b806-d378-4356-89c2-e4512afbbdd8",
   "metadata": {},
   "outputs": [
    {
     "data": {
      "text/plain": [
       "[10, 5.4, 'ten', True, (2+3j), 40, 67, 20, 20, 10, 10, 10, 20, 30]"
      ]
     },
     "execution_count": 162,
     "metadata": {},
     "output_type": "execute_result"
    }
   ],
   "source": [
    "l2.extend(l1)\n",
    "l1\n"
   ]
  },
  {
   "cell_type": "markdown",
   "id": "c3148b6d-c386-4baf-9fec-1bf08b3db8d2",
   "metadata": {},
   "source": [
    "***Index***"
   ]
  },
  {
   "cell_type": "code",
   "execution_count": 165,
   "id": "6360127a-67b3-432f-a35a-38b9f9b6d0bb",
   "metadata": {},
   "outputs": [
    {
     "data": {
      "text/plain": [
       "5"
      ]
     },
     "execution_count": 165,
     "metadata": {},
     "output_type": "execute_result"
    }
   ],
   "source": [
    "l1.index(40)"
   ]
  },
  {
   "cell_type": "code",
   "execution_count": 169,
   "id": "6d052890-0e0e-4306-a968-123689555229",
   "metadata": {},
   "outputs": [
    {
     "data": {
      "text/plain": [
       "4"
      ]
     },
     "execution_count": 169,
     "metadata": {},
     "output_type": "execute_result"
    }
   ],
   "source": [
    "l1.index(2+3j)"
   ]
  },
  {
   "cell_type": "code",
   "execution_count": 171,
   "id": "0bfb036e-a6f3-471b-baff-840f4f58853b",
   "metadata": {},
   "outputs": [
    {
     "data": {
      "text/plain": [
       "[20, 20, 10, 10, 10, 20, 30]"
      ]
     },
     "execution_count": 171,
     "metadata": {},
     "output_type": "execute_result"
    }
   ],
   "source": [
    "l[:]"
   ]
  },
  {
   "cell_type": "code",
   "execution_count": 173,
   "id": "1a050d03-d27f-4585-b30d-d3330db8c8d2",
   "metadata": {},
   "outputs": [
    {
     "data": {
      "text/plain": [
       "[67, 20, 20, 10, 10, 10]"
      ]
     },
     "execution_count": 173,
     "metadata": {},
     "output_type": "execute_result"
    }
   ],
   "source": [
    "l2[0:6]"
   ]
  },
  {
   "cell_type": "code",
   "execution_count": 175,
   "id": "64af1552-9837-472e-a8e1-26d86f16b9a0",
   "metadata": {},
   "outputs": [
    {
     "data": {
      "text/plain": [
       "[10, 10, 10, 20, 30]"
      ]
     },
     "execution_count": 175,
     "metadata": {},
     "output_type": "execute_result"
    }
   ],
   "source": [
    "l2[-5::]"
   ]
  },
  {
   "cell_type": "code",
   "execution_count": 177,
   "id": "a0d48ada-986a-4969-98e8-dea8d6b9ed07",
   "metadata": {},
   "outputs": [
    {
     "data": {
      "text/plain": [
       "[67,\n",
       " 20,\n",
       " 20,\n",
       " 10,\n",
       " 10,\n",
       " 10,\n",
       " 20,\n",
       " 30,\n",
       " 20,\n",
       " 20,\n",
       " 10,\n",
       " 10,\n",
       " 10,\n",
       " 20,\n",
       " 30,\n",
       " 10,\n",
       " 5.4,\n",
       " 'ten',\n",
       " True,\n",
       " (2+3j),\n",
       " 40,\n",
       " 67,\n",
       " 20,\n",
       " 20,\n",
       " 10,\n",
       " 10,\n",
       " 10,\n",
       " 20,\n",
       " 30]"
      ]
     },
     "execution_count": 177,
     "metadata": {},
     "output_type": "execute_result"
    }
   ],
   "source": [
    "l2"
   ]
  },
  {
   "cell_type": "markdown",
   "id": "7d0728e2-e95e-413f-a679-1db25f2a38c5",
   "metadata": {},
   "source": [
    "*** Backward indexing & backward slicing ***"
   ]
  },
  {
   "cell_type": "code",
   "execution_count": 181,
   "id": "260136b4-44cd-45ed-8f14-a93111c94bcf",
   "metadata": {},
   "outputs": [
    {
     "data": {
      "text/plain": [
       "[10, 5.4, 'ten', True, (2+3j), 40, 67, 20, 20, 10, 10, 10, 20, 30]"
      ]
     },
     "execution_count": 181,
     "metadata": {},
     "output_type": "execute_result"
    }
   ],
   "source": [
    "l1"
   ]
  },
  {
   "cell_type": "code",
   "execution_count": 183,
   "id": "3e4662c1-8eff-4eb1-a4e0-4cb0c7541bdd",
   "metadata": {},
   "outputs": [
    {
     "data": {
      "text/plain": [
       "[10, 5.4, 'ten', True, (2+3j), 40, 67, 20, 20, 10, 10, 10, 20, 30]"
      ]
     },
     "execution_count": 183,
     "metadata": {},
     "output_type": "execute_result"
    }
   ],
   "source": [
    "l1[:]"
   ]
  },
  {
   "cell_type": "code",
   "execution_count": 185,
   "id": "f4e68ac2-a491-469d-b1e5-e00cac63fabc",
   "metadata": {},
   "outputs": [
    {
     "data": {
      "text/plain": [
       "10"
      ]
     },
     "execution_count": 185,
     "metadata": {},
     "output_type": "execute_result"
    }
   ],
   "source": [
    "l1[-5]"
   ]
  },
  {
   "cell_type": "code",
   "execution_count": 187,
   "id": "c391d1c5-a7b9-43b0-93f8-bab896567b37",
   "metadata": {},
   "outputs": [
    {
     "data": {
      "text/plain": [
       "[10, 5.4, 'ten', True, (2+3j), 40]"
      ]
     },
     "execution_count": 187,
     "metadata": {},
     "output_type": "execute_result"
    }
   ],
   "source": [
    "l1[:-8]"
   ]
  },
  {
   "cell_type": "code",
   "execution_count": 189,
   "id": "6d5252f5-05c0-462e-aea0-f0d36b75be86",
   "metadata": {},
   "outputs": [
    {
     "data": {
      "text/plain": [
       "[67,\n",
       " 20,\n",
       " 20,\n",
       " 10,\n",
       " 10,\n",
       " 10,\n",
       " 20,\n",
       " 30,\n",
       " 20,\n",
       " 20,\n",
       " 10,\n",
       " 10,\n",
       " 10,\n",
       " 20,\n",
       " 30,\n",
       " 10,\n",
       " 5.4,\n",
       " 'ten',\n",
       " True,\n",
       " (2+3j),\n",
       " 40,\n",
       " 67,\n",
       " 20,\n",
       " 20,\n",
       " 10,\n",
       " 10,\n",
       " 10,\n",
       " 20,\n",
       " 30]"
      ]
     },
     "execution_count": 189,
     "metadata": {},
     "output_type": "execute_result"
    }
   ],
   "source": [
    "l2"
   ]
  },
  {
   "cell_type": "code",
   "execution_count": 193,
   "id": "82fb11a1-2d97-4860-92fd-b64711846da2",
   "metadata": {},
   "outputs": [
    {
     "data": {
      "text/plain": [
       "[20, 20, 10, 10, 10, 20, 30]"
      ]
     },
     "execution_count": 193,
     "metadata": {},
     "output_type": "execute_result"
    }
   ],
   "source": [
    "l"
   ]
  },
  {
   "cell_type": "code",
   "execution_count": 195,
   "id": "a1dce78f-bcd8-4022-ae08-534138bfbafd",
   "metadata": {},
   "outputs": [
    {
     "data": {
      "text/plain": [
       "[10, 20, 30]"
      ]
     },
     "execution_count": 195,
     "metadata": {},
     "output_type": "execute_result"
    }
   ],
   "source": [
    "l[-3:]"
   ]
  },
  {
   "cell_type": "code",
   "execution_count": 197,
   "id": "c37e160e-3bed-4183-a68a-2eae873b0809",
   "metadata": {},
   "outputs": [
    {
     "data": {
      "text/plain": [
       "[True, (2+3j), 40, 67, 20, 20, 10, 10]"
      ]
     },
     "execution_count": 197,
     "metadata": {},
     "output_type": "execute_result"
    }
   ],
   "source": [
    "l1[3:-3]"
   ]
  },
  {
   "cell_type": "code",
   "execution_count": 199,
   "id": "341ff062-fed1-4d31-85fc-e39551ff5429",
   "metadata": {},
   "outputs": [
    {
     "data": {
      "text/plain": [
       "[10, 5.4, 'ten', True, (2+3j), 40, 67, 20, 20, 10, 10, 10, 20, 30]"
      ]
     },
     "execution_count": 199,
     "metadata": {},
     "output_type": "execute_result"
    }
   ],
   "source": [
    "l1"
   ]
  },
  {
   "cell_type": "code",
   "execution_count": 201,
   "id": "971c693b-5fa7-4839-8332-bacecd91a899",
   "metadata": {},
   "outputs": [
    {
     "data": {
      "text/plain": [
       "[30, 20, 10, 10, 10, 20, 20, 67, 40, (2+3j), True, 'ten', 5.4, 10]"
      ]
     },
     "execution_count": 201,
     "metadata": {},
     "output_type": "execute_result"
    }
   ],
   "source": [
    "l1[::-1]"
   ]
  },
  {
   "cell_type": "code",
   "execution_count": 203,
   "id": "348adc33-662b-4706-be6e-bcf432dc37d7",
   "metadata": {},
   "outputs": [
    {
     "data": {
      "text/plain": [
       "[30, 10, 20, (2+3j), 5.4, 20, 10, 30, 10, 20]"
      ]
     },
     "execution_count": 203,
     "metadata": {},
     "output_type": "execute_result"
    }
   ],
   "source": [
    "l2[::-3]"
   ]
  },
  {
   "cell_type": "code",
   "execution_count": 205,
   "id": "0a7c3082-5393-44cb-a2f5-5de7fb368c02",
   "metadata": {},
   "outputs": [
    {
     "name": "stdout",
     "output_type": "stream",
     "text": [
      "[20, 20, 10, 10, 10, 20, 30] 2215984278976\n",
      "[10, 5.4, 'ten', True, (2+3j), 40, 67, 20, 20, 10, 10, 10, 20, 30] 2216003008000\n",
      "[67, 20, 20, 10, 10, 10, 20, 30, 20, 20, 10, 10, 10, 20, 30, 10, 5.4, 'ten', True, (2+3j), 40, 67, 20, 20, 10, 10, 10, 20, 30] 2216003236992\n"
     ]
    }
   ],
   "source": [
    "print(l,id(l))\n",
    "print(l1,id(l1))\n",
    "print(l2,id(l2))"
   ]
  },
  {
   "cell_type": "markdown",
   "id": "ab909623-df0a-4ba9-952d-5d0f57839eb7",
   "metadata": {},
   "source": [
    "***Remove***"
   ]
  },
  {
   "cell_type": "code",
   "execution_count": 213,
   "id": "10f20207-87b3-4b4c-9857-4739614c37a3",
   "metadata": {},
   "outputs": [
    {
     "name": "stdout",
     "output_type": "stream",
     "text": [
      "[5.4, 'ten', (2+3j), 40, 67, 20, 20, 10, 10, 10, 20, 30]\n"
     ]
    }
   ],
   "source": [
    "l1.remove(10)\n",
    "print(l1)"
   ]
  },
  {
   "cell_type": "code",
   "execution_count": 216,
   "id": "0beb6b12-63c2-4351-a59b-bffdc9bc1f46",
   "metadata": {},
   "outputs": [
    {
     "data": {
      "text/plain": [
       "[5.4, 'ten', (2+3j), 40, 67, 20, 20, 10, 10, 10, 20, 30]"
      ]
     },
     "execution_count": 216,
     "metadata": {},
     "output_type": "execute_result"
    }
   ],
   "source": [
    "l1"
   ]
  },
  {
   "cell_type": "code",
   "execution_count": 218,
   "id": "64599576-38e5-4a3a-b995-bb1bcb358603",
   "metadata": {},
   "outputs": [
    {
     "name": "stdout",
     "output_type": "stream",
     "text": [
      "[5.4, 'ten', 40, 67, 20, 20, 10, 10, 10, 20, 30]\n"
     ]
    }
   ],
   "source": [
    "l1.remove(2+3j)\n",
    "print(l1)"
   ]
  },
  {
   "cell_type": "code",
   "execution_count": 220,
   "id": "6596f7eb-5c2f-470f-af97-fe9eb7eb0e99",
   "metadata": {},
   "outputs": [
    {
     "data": {
      "text/plain": [
       "[67,\n",
       " 20,\n",
       " 20,\n",
       " 10,\n",
       " 10,\n",
       " 10,\n",
       " 20,\n",
       " 30,\n",
       " 20,\n",
       " 20,\n",
       " 10,\n",
       " 10,\n",
       " 10,\n",
       " 20,\n",
       " 30,\n",
       " 10,\n",
       " 5.4,\n",
       " 'ten',\n",
       " True,\n",
       " (2+3j),\n",
       " 40,\n",
       " 67,\n",
       " 20,\n",
       " 20,\n",
       " 10,\n",
       " 10,\n",
       " 10,\n",
       " 20,\n",
       " 30]"
      ]
     },
     "execution_count": 220,
     "metadata": {},
     "output_type": "execute_result"
    }
   ],
   "source": [
    "l2"
   ]
  },
  {
   "cell_type": "code",
   "execution_count": 223,
   "id": "28c35a2c-c8c0-481e-b928-4787b3d7e1ba",
   "metadata": {},
   "outputs": [
    {
     "ename": "TypeError",
     "evalue": "list.remove() takes exactly one argument (5 given)",
     "output_type": "error",
     "traceback": [
      "\u001b[1;31m---------------------------------------------------------------------------\u001b[0m",
      "\u001b[1;31mTypeError\u001b[0m                                 Traceback (most recent call last)",
      "Cell \u001b[1;32mIn[223], line 1\u001b[0m\n\u001b[1;32m----> 1\u001b[0m l2\u001b[38;5;241m.\u001b[39mremove(\u001b[38;5;241m10\u001b[39m,\u001b[38;5;241m10\u001b[39m,\u001b[38;5;241m40\u001b[39m,\u001b[38;5;241m20\u001b[39m,\u001b[38;5;241m20\u001b[39m)\n\u001b[0;32m      2\u001b[0m \u001b[38;5;28mprint\u001b[39m(l2)\n",
      "\u001b[1;31mTypeError\u001b[0m: list.remove() takes exactly one argument (5 given)"
     ]
    }
   ],
   "source": [
    "l2.remove(10,10,40,20,20)\n",
    "print(l2)"
   ]
  },
  {
   "cell_type": "markdown",
   "id": "537a2806-1ac2-4581-9c2c-f06a64eaf347",
   "metadata": {},
   "source": [
    "***List Datastucture***"
   ]
  },
  {
   "cell_type": "code",
   "execution_count": 4,
   "id": "95dfc4fb-5fc5-463e-98e0-51ff23556604",
   "metadata": {},
   "outputs": [
    {
     "data": {
      "text/plain": [
       "[100, 20, 30, 50]"
      ]
     },
     "execution_count": 4,
     "metadata": {},
     "output_type": "execute_result"
    }
   ],
   "source": [
    "l1=[100,20,30,50,]\n",
    "l1"
   ]
  },
  {
   "cell_type": "code",
   "execution_count": 6,
   "id": "637ecbd8-e119-4559-b963-03c1a9b257d3",
   "metadata": {},
   "outputs": [
    {
     "name": "stdout",
     "output_type": "stream",
     "text": [
      "[100, 20, 30, 50, 9, 10, 11]\n"
     ]
    }
   ],
   "source": [
    "l1.append(9)\n",
    "l1.append(10)\n",
    "l1.append(11)\n",
    "print(l1)"
   ]
  },
  {
   "cell_type": "markdown",
   "id": "2d9e872e-f994-4171-a7ab-26b5dad80cda",
   "metadata": {},
   "source": [
    "***Index***"
   ]
  },
  {
   "cell_type": "code",
   "execution_count": 10,
   "id": "ace74791-88ab-4d85-9d36-611314657e8a",
   "metadata": {},
   "outputs": [
    {
     "data": {
      "text/plain": [
       "0"
      ]
     },
     "execution_count": 10,
     "metadata": {},
     "output_type": "execute_result"
    }
   ],
   "source": [
    "l1.index(100)\n"
   ]
  },
  {
   "cell_type": "code",
   "execution_count": 12,
   "id": "18a6888f-3b81-49f3-918f-d60b23b5c898",
   "metadata": {},
   "outputs": [
    {
     "data": {
      "text/plain": [
       "3"
      ]
     },
     "execution_count": 12,
     "metadata": {},
     "output_type": "execute_result"
    }
   ],
   "source": [
    "l1.index(50)"
   ]
  },
  {
   "cell_type": "code",
   "execution_count": 14,
   "id": "4bbe9cf6-a5e2-42d2-8dec-9d961bd9a982",
   "metadata": {},
   "outputs": [
    {
     "data": {
      "text/plain": [
       "4"
      ]
     },
     "execution_count": 14,
     "metadata": {},
     "output_type": "execute_result"
    }
   ],
   "source": [
    "l1.index(9)"
   ]
  },
  {
   "cell_type": "code",
   "execution_count": 16,
   "id": "7cd8a89e-dd82-49ed-855a-f786557a2ae2",
   "metadata": {},
   "outputs": [
    {
     "data": {
      "text/plain": [
       "[True, 8, (1+2j), 8.4]"
      ]
     },
     "execution_count": 16,
     "metadata": {},
     "output_type": "execute_result"
    }
   ],
   "source": [
    "l2=[True,8,(1+2j),8.4]\n",
    "l2"
   ]
  },
  {
   "cell_type": "code",
   "execution_count": 18,
   "id": "38a47d33-84a8-4f57-9fa2-2f3881e22cc7",
   "metadata": {},
   "outputs": [
    {
     "name": "stdout",
     "output_type": "stream",
     "text": [
      "8\n"
     ]
    }
   ],
   "source": [
    "print(l2[1])"
   ]
  },
  {
   "cell_type": "code",
   "execution_count": 24,
   "id": "812124c4-db02-4319-8fd6-e78293fae67a",
   "metadata": {},
   "outputs": [
    {
     "ename": "TypeError",
     "evalue": "'bool' object is not subscriptable",
     "output_type": "error",
     "traceback": [
      "\u001b[1;31m----------------------------------------------------------------\u001b[0m",
      "\u001b[1;31mTypeError\u001b[0m                      Traceback (most recent call last)",
      "Cell \u001b[1;32mIn[24], line 1\u001b[0m\n\u001b[1;32m----> 1\u001b[0m \u001b[38;5;28mprint\u001b[39m(l2[\u001b[38;5;241m0\u001b[39m][\u001b[38;5;241m0\u001b[39m])\n\u001b[0;32m      2\u001b[0m \u001b[38;5;28mprint\u001b[39m(l2[\u001b[38;5;241m0\u001b[39m][\u001b[38;5;241m1\u001b[39m])\n\u001b[0;32m      3\u001b[0m \u001b[38;5;28mprint\u001b[39m(l2[\u001b[38;5;241m0\u001b[39m][\u001b[38;5;241m2\u001b[39m])\n",
      "\u001b[1;31mTypeError\u001b[0m: 'bool' object is not subscriptable"
     ]
    }
   ],
   "source": [
    "print(l2[0][0])\n",
    "print(l2[0][1])\n",
    "print(l2[0][2])\n",
    "print(l2[0][3])"
   ]
  },
  {
   "cell_type": "code",
   "execution_count": 28,
   "id": "fca366cd-1715-4eac-ad92-867bc2b3b583",
   "metadata": {},
   "outputs": [
    {
     "data": {
      "text/plain": [
       "[True, 8, (1+2j), 8.4, 'jin']"
      ]
     },
     "execution_count": 28,
     "metadata": {},
     "output_type": "execute_result"
    }
   ],
   "source": [
    "l2.append('jin')\n",
    "l2"
   ]
  },
  {
   "cell_type": "code",
   "execution_count": 32,
   "id": "0d9c26ed-3bab-46ab-a887-75811fe922c4",
   "metadata": {},
   "outputs": [
    {
     "data": {
      "text/plain": [
       "[True, 8, (1+2j), 8.4, 'jin']"
      ]
     },
     "execution_count": 32,
     "metadata": {},
     "output_type": "execute_result"
    }
   ],
   "source": [
    "l2"
   ]
  },
  {
   "cell_type": "code",
   "execution_count": 36,
   "id": "8c8b3be0-f84e-4b23-aec9-4effe0daa695",
   "metadata": {},
   "outputs": [
    {
     "name": "stdout",
     "output_type": "stream",
     "text": [
      "j\n",
      "i\n",
      "n\n"
     ]
    }
   ],
   "source": [
    "print(l2[4][0])\n",
    "print(l2[4][1])\n",
    "print(l2[4][2])\n"
   ]
  },
  {
   "cell_type": "markdown",
   "id": "5d73e7f8-f756-48ca-8037-04be1847f1fa",
   "metadata": {},
   "source": [
    "***Insert***"
   ]
  },
  {
   "cell_type": "code",
   "execution_count": 40,
   "id": "69015448-a7c1-4c9e-b084-b7bef463dd8c",
   "metadata": {},
   "outputs": [
    {
     "data": {
      "text/plain": [
       "[True, 8, (1+2j), 8.4, 'jin']"
      ]
     },
     "execution_count": 40,
     "metadata": {},
     "output_type": "execute_result"
    }
   ],
   "source": [
    "l2"
   ]
  },
  {
   "cell_type": "code",
   "execution_count": 42,
   "id": "53375b81-f556-4623-8cce-39b537fa2296",
   "metadata": {},
   "outputs": [
    {
     "data": {
      "text/plain": [
       "[True, 8, (1+2j), 8.4, 'jin', 2]"
      ]
     },
     "execution_count": 42,
     "metadata": {},
     "output_type": "execute_result"
    }
   ],
   "source": [
    "l2.insert(15,2)\n",
    "l2"
   ]
  },
  {
   "cell_type": "code",
   "execution_count": 46,
   "id": "7b93e603-1611-40b3-95a3-83a6c3b3c4bb",
   "metadata": {},
   "outputs": [
    {
     "data": {
      "text/plain": [
       "[True, 8, 2, 2, (1+2j), 8.4, 'jin', 2]"
      ]
     },
     "execution_count": 46,
     "metadata": {},
     "output_type": "execute_result"
    }
   ],
   "source": [
    "l2.insert(2,2)\n",
    "l2\n"
   ]
  },
  {
   "cell_type": "code",
   "execution_count": 48,
   "id": "b6863dc1-cca0-48f2-80b4-89346276a463",
   "metadata": {},
   "outputs": [
    {
     "data": {
      "text/plain": [
       "[100, 20, 30, 50, 9, 10, 11]"
      ]
     },
     "execution_count": 48,
     "metadata": {},
     "output_type": "execute_result"
    }
   ],
   "source": [
    "l1"
   ]
  },
  {
   "cell_type": "code",
   "execution_count": 50,
   "id": "7cdc98eb-9d87-4094-a34b-eaccc81ab7f9",
   "metadata": {},
   "outputs": [
    {
     "data": {
      "text/plain": [
       "[5, 100, 20, 30, 50, 9, 10, 11]"
      ]
     },
     "execution_count": 50,
     "metadata": {},
     "output_type": "execute_result"
    }
   ],
   "source": [
    "l1.insert(0,5)\n",
    "l1"
   ]
  },
  {
   "cell_type": "code",
   "execution_count": null,
   "id": "6b9f6911-cdac-41a0-886e-f542556d0a7e",
   "metadata": {},
   "outputs": [],
   "source": []
  },
  {
   "cell_type": "markdown",
   "id": "807f1a71-356d-4d56-83fb-f268fecac947",
   "metadata": {},
   "source": [
    "***POP***"
   ]
  },
  {
   "cell_type": "code",
   "execution_count": 53,
   "id": "5f21fe63-14e5-468e-b7f5-839a14a8633e",
   "metadata": {},
   "outputs": [
    {
     "data": {
      "text/plain": [
       "[5, 100, 20, 30, 50, 9, 10, 11]"
      ]
     },
     "execution_count": 53,
     "metadata": {},
     "output_type": "execute_result"
    }
   ],
   "source": [
    "l1"
   ]
  },
  {
   "cell_type": "code",
   "execution_count": 55,
   "id": "032f1bf8-7a00-4b9a-852f-23e6db131cdb",
   "metadata": {},
   "outputs": [
    {
     "data": {
      "text/plain": [
       "11"
      ]
     },
     "execution_count": 55,
     "metadata": {},
     "output_type": "execute_result"
    }
   ],
   "source": [
    "l1.pop()"
   ]
  },
  {
   "cell_type": "code",
   "execution_count": 57,
   "id": "218a22b7-e26d-41a7-ada7-8e1e9156395a",
   "metadata": {},
   "outputs": [
    {
     "data": {
      "text/plain": [
       "[5, 100, 20, 30, 50, 9, 10]"
      ]
     },
     "execution_count": 57,
     "metadata": {},
     "output_type": "execute_result"
    }
   ],
   "source": [
    "l1"
   ]
  },
  {
   "cell_type": "code",
   "execution_count": 59,
   "id": "5ed2d279-2867-4f0a-9ac6-fcf6b3dd6115",
   "metadata": {},
   "outputs": [
    {
     "data": {
      "text/plain": [
       "20"
      ]
     },
     "execution_count": 59,
     "metadata": {},
     "output_type": "execute_result"
    }
   ],
   "source": [
    "l1.pop(2)"
   ]
  },
  {
   "cell_type": "code",
   "execution_count": 61,
   "id": "02e4f34f-517c-4b66-bfb3-7518779af3b5",
   "metadata": {},
   "outputs": [
    {
     "data": {
      "text/plain": [
       "[5, 100, 30, 50, 9, 10]"
      ]
     },
     "execution_count": 61,
     "metadata": {},
     "output_type": "execute_result"
    }
   ],
   "source": [
    "l1"
   ]
  },
  {
   "cell_type": "code",
   "execution_count": 63,
   "id": "9603dcb9-3e04-4009-8902-e759d0b9d222",
   "metadata": {},
   "outputs": [
    {
     "data": {
      "text/plain": [
       "[True, 8, 2, 2, (1+2j), 8.4, 'jin', 2]"
      ]
     },
     "execution_count": 63,
     "metadata": {},
     "output_type": "execute_result"
    }
   ],
   "source": [
    "l2"
   ]
  },
  {
   "cell_type": "code",
   "execution_count": 66,
   "id": "ee1b294d-9141-40cb-b472-0414e77788db",
   "metadata": {},
   "outputs": [
    {
     "data": {
      "text/plain": [
       "2"
      ]
     },
     "execution_count": 66,
     "metadata": {},
     "output_type": "execute_result"
    }
   ],
   "source": [
    "l2.pop(3)"
   ]
  },
  {
   "cell_type": "code",
   "execution_count": 68,
   "id": "447827dc-6110-4188-aab7-61183ec2de9b",
   "metadata": {},
   "outputs": [
    {
     "data": {
      "text/plain": [
       "[True, 8, 2, (1+2j), 8.4, 'jin', 2]"
      ]
     },
     "execution_count": 68,
     "metadata": {},
     "output_type": "execute_result"
    }
   ],
   "source": [
    "l2"
   ]
  },
  {
   "cell_type": "code",
   "execution_count": 70,
   "id": "aa8593d9-1478-434e-80e6-a6eded030d81",
   "metadata": {},
   "outputs": [
    {
     "data": {
      "text/plain": [
       "2"
      ]
     },
     "execution_count": 70,
     "metadata": {},
     "output_type": "execute_result"
    }
   ],
   "source": [
    "l2.pop()"
   ]
  },
  {
   "cell_type": "code",
   "execution_count": 72,
   "id": "d1d6461e-07af-4ad7-824e-77159616241f",
   "metadata": {},
   "outputs": [
    {
     "data": {
      "text/plain": [
       "[True, 8, 2, (1+2j), 8.4, 'jin']"
      ]
     },
     "execution_count": 72,
     "metadata": {},
     "output_type": "execute_result"
    }
   ],
   "source": [
    "l2"
   ]
  },
  {
   "cell_type": "code",
   "execution_count": 74,
   "id": "3367ea74-a0dd-4546-a1f0-279c0443f1e4",
   "metadata": {},
   "outputs": [
    {
     "data": {
      "text/plain": [
       "[5, 100, 30, 50, 9, 10]"
      ]
     },
     "execution_count": 74,
     "metadata": {},
     "output_type": "execute_result"
    }
   ],
   "source": [
    "l1"
   ]
  },
  {
   "cell_type": "markdown",
   "id": "6444a045-c1e4-41d3-9ce1-7f9a651f6b2f",
   "metadata": {},
   "source": [
    "***Sort***"
   ]
  },
  {
   "cell_type": "code",
   "execution_count": 78,
   "id": "a52bf5f2-0d27-4358-b579-deb0b356762c",
   "metadata": {},
   "outputs": [
    {
     "data": {
      "text/plain": [
       "[5, 9, 10, 30, 50, 100]"
      ]
     },
     "execution_count": 78,
     "metadata": {},
     "output_type": "execute_result"
    }
   ],
   "source": [
    "l1.sort()\n",
    "l1"
   ]
  },
  {
   "cell_type": "code",
   "execution_count": 95,
   "id": "c46bb221-3873-4894-ba77-dfd8059990fc",
   "metadata": {},
   "outputs": [
    {
     "data": {
      "text/plain": [
       "[10.2, 'True', 20]"
      ]
     },
     "execution_count": 95,
     "metadata": {},
     "output_type": "execute_result"
    }
   ],
   "source": [
    "l3=[10.2,'True',20]\n",
    "l3"
   ]
  },
  {
   "cell_type": "code",
   "execution_count": 97,
   "id": "5409e28c-74dc-4e98-8fce-9ec1c33c28cb",
   "metadata": {},
   "outputs": [
    {
     "ename": "TypeError",
     "evalue": "'<' not supported between instances of 'str' and 'float'",
     "output_type": "error",
     "traceback": [
      "\u001b[1;31m----------------------------------------------------------------\u001b[0m",
      "\u001b[1;31mTypeError\u001b[0m                      Traceback (most recent call last)",
      "Cell \u001b[1;32mIn[97], line 1\u001b[0m\n\u001b[1;32m----> 1\u001b[0m l3\u001b[38;5;241m.\u001b[39msort()\n",
      "\u001b[1;31mTypeError\u001b[0m: '<' not supported between instances of 'str' and 'float'"
     ]
    }
   ],
   "source": [
    "l3.sort()"
   ]
  },
  {
   "cell_type": "code",
   "execution_count": 99,
   "id": "b5feb071-50a5-4b0c-b164-ce21c38bd40a",
   "metadata": {},
   "outputs": [
    {
     "data": {
      "text/plain": [
       "[True, 8, 2, (1+2j), 8.4, 'jin']"
      ]
     },
     "execution_count": 99,
     "metadata": {},
     "output_type": "execute_result"
    }
   ],
   "source": [
    "l2"
   ]
  },
  {
   "cell_type": "code",
   "execution_count": 103,
   "id": "4a57d468-2293-4ff2-874f-429f325dd7c0",
   "metadata": {},
   "outputs": [
    {
     "data": {
      "text/plain": [
       "[5, 9, 10, 30, 50, 100]"
      ]
     },
     "execution_count": 103,
     "metadata": {},
     "output_type": "execute_result"
    }
   ],
   "source": [
    "l1.sort()\n",
    "l1"
   ]
  },
  {
   "cell_type": "code",
   "execution_count": 107,
   "id": "a1b5d0be-ec83-44bc-bc68-4b99923cdf5d",
   "metadata": {},
   "outputs": [
    {
     "data": {
      "text/plain": [
       "[100, 50, 30, 10, 9, 5]"
      ]
     },
     "execution_count": 107,
     "metadata": {},
     "output_type": "execute_result"
    }
   ],
   "source": [
    "l1.sort(reverse=True)\n",
    "l1"
   ]
  },
  {
   "cell_type": "code",
   "execution_count": 109,
   "id": "729e01f6-e401-41a1-b4dc-212299bf1e7f",
   "metadata": {},
   "outputs": [
    {
     "data": {
      "text/plain": [
       "[5, 9, 10, 30, 50, 100]"
      ]
     },
     "execution_count": 109,
     "metadata": {},
     "output_type": "execute_result"
    }
   ],
   "source": [
    "l1.sort(reverse=False)\n",
    "l1"
   ]
  },
  {
   "cell_type": "code",
   "execution_count": null,
   "id": "2e09e9d8-ab52-46d2-a1de-3d169b48bb9b",
   "metadata": {},
   "outputs": [],
   "source": []
  }
 ],
 "metadata": {
  "kernelspec": {
   "display_name": "Python 3 (ipykernel)",
   "language": "python",
   "name": "python3"
  },
  "language_info": {
   "codemirror_mode": {
    "name": "ipython",
    "version": 3
   },
   "file_extension": ".py",
   "mimetype": "text/x-python",
   "name": "python",
   "nbconvert_exporter": "python",
   "pygments_lexer": "ipython3",
   "version": "3.12.4"
  }
 },
 "nbformat": 4,
 "nbformat_minor": 5
}
